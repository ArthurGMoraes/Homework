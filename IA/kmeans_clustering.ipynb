{
 "cells": [
  {
   "cell_type": "code",
   "execution_count": null,
   "id": "50e3eb38",
   "metadata": {},
   "outputs": [],
   "source": [
    "\n",
    "# Import necessary libraries\n",
    "import pandas as pd\n",
    "import matplotlib.pyplot as plt\n",
    "import numpy as np\n",
    "import seaborn as sns\n",
    "\n",
    "from sklearn.preprocessing import StandardScaler\n",
    "from sklearn.cluster import KMeans\n",
    "from sklearn.metrics import silhouette_score, accuracy_score\n",
    "\n",
    "import warnings\n",
    "warnings.filterwarnings(\"ignore\")\n",
    "    "
   ]
  },
  {
   "cell_type": "code",
   "execution_count": null,
   "id": "41d0671f",
   "metadata": {},
   "outputs": [],
   "source": [
    "\n",
    "# Load the dataset\n",
    "df = pd.read_csv(\"/content/sample_data/heart-disease.csv\")\n",
    "\n",
    "# Data preprocessing\n",
    "print('Checking for duplicated rows:', df.duplicated().sum())\n",
    "print('Checking for missing values:', df.isna().sum().sum(), 'values missing')\n",
    "\n",
    "# Fill missing values if any\n",
    "df.fillna(df.mean(), inplace=True)\n",
    "    "
   ]
  },
  {
   "cell_type": "code",
   "execution_count": null,
   "id": "de11602a",
   "metadata": {},
   "outputs": [],
   "source": [
    "\n",
    "# Define features (X)\n",
    "X = df.drop('target', axis=1)\n",
    "\n",
    "# Standardize the dataset\n",
    "scaler = StandardScaler()\n",
    "X_scaled = scaler.fit_transform(X)\n",
    "    "
   ]
  },
  {
   "cell_type": "code",
   "execution_count": null,
   "id": "98e214d2",
   "metadata": {},
   "outputs": [],
   "source": [
    "\n",
    "# Apply K-Means clustering\n",
    "n_clusters = 2  # Assuming we want 2 clusters\n",
    "kmeans = KMeans(n_clusters=n_clusters, random_state=42)\n",
    "cluster_labels = kmeans.fit_predict(X_scaled)\n",
    "\n",
    "# Add cluster labels to the dataset\n",
    "df['Cluster'] = cluster_labels\n",
    "    "
   ]
  },
  {
   "cell_type": "code",
   "execution_count": null,
   "id": "95ca3d1a",
   "metadata": {},
   "outputs": [],
   "source": [
    "\n",
    "# Evaluate clustering performance (silhouette score)\n",
    "silhouette_avg = silhouette_score(X_scaled, cluster_labels)\n",
    "print(f\"Silhouette Score: {silhouette_avg:.2f}\")\n",
    "\n",
    "# If you want to compare clusters with the actual target\n",
    "if 'target' in df.columns:\n",
    "    target_accuracy = accuracy_score(df['target'], cluster_labels)\n",
    "    print(f\"Accuracy with respect to the target: {target_accuracy:.2f}\")\n",
    "    "
   ]
  },
  {
   "cell_type": "code",
   "execution_count": null,
   "id": "d51ff86b",
   "metadata": {},
   "outputs": [],
   "source": [
    "\n",
    "# Visualize clusters (if features are reduced to 2D, e.g., using PCA)\n",
    "sns.scatterplot(x=X_scaled[:, 0], y=X_scaled[:, 1], hue=cluster_labels, palette='viridis')\n",
    "plt.title(\"K-Means Clustering Results\")\n",
    "plt.show()\n",
    "    "
   ]
  }
 ],
 "metadata": {},
 "nbformat": 4,
 "nbformat_minor": 5
}
