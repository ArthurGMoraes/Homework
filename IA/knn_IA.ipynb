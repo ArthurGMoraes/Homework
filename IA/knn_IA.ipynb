{
  "metadata": {
    "kernelspec": {
      "display_name": "Python 3",
      "language": "python",
      "name": "python3"
    },
    "language_info": {
      "name": "python",
      "version": "3.10.14",
      "mimetype": "text/x-python",
      "codemirror_mode": {
        "name": "ipython",
        "version": 3
      },
      "pygments_lexer": "ipython3",
      "nbconvert_exporter": "python",
      "file_extension": ".py"
    },
    "kaggle": {
      "accelerator": "none",
      "dataSources": [
        {
          "sourceId": 9052698,
          "sourceType": "datasetVersion",
          "datasetId": 5458393
        }
      ],
      "dockerImageVersionId": 30761,
      "isInternetEnabled": false,
      "language": "python",
      "sourceType": "notebook",
      "isGpuEnabled": false
    },
    "colab": {
      "provenance": []
    }
  },
  "nbformat_minor": 0,
  "nbformat": 4,
  "cells": [
    {
      "cell_type": "code",
      "source": [
        "import pandas as pd\n",
        "import matplotlib.pyplot as plt\n",
        "import numpy as np\n",
        "import seaborn as sns\n",
        "\n",
        "from sklearn.model_selection import train_test_split\n",
        "from sklearn.preprocessing import StandardScaler\n",
        "from sklearn.neighbors import KNeighborsClassifier\n",
        "from sklearn.metrics import confusion_matrix, accuracy_score, precision_score, recall_score, f1_score\n",
        "from sklearn.metrics import classification_report, confusion_matrix\n",
        "\n",
        "import warnings\n",
        "warnings.filterwarnings(\"ignore\")"
      ],
      "metadata": {
        "ExecuteTime": {
          "end_time": "2024-09-11T22:42:45.176655Z",
          "start_time": "2024-09-11T22:42:45.157665Z"
        },
        "execution": {
          "iopub.status.busy": "2024-09-12T14:42:21.394612Z",
          "iopub.execute_input": "2024-09-12T14:42:21.395099Z",
          "iopub.status.idle": "2024-09-12T14:42:21.402613Z",
          "shell.execute_reply.started": "2024-09-12T14:42:21.395051Z",
          "shell.execute_reply": "2024-09-12T14:42:21.401364Z"
        },
        "trusted": true,
        "id": "Cn_6srN5RxdV"
      },
      "outputs": [],
      "execution_count": 1
    },
    {
      "cell_type": "code",
      "source": [
        "# Carregar os dados\n",
        "# Carregar os conjuntos de dados processados\n",
        "X_train = pd.read_csv('/content/X_train.csv')\n",
        "X_test = pd.read_csv('/content/X_test.csv')\n",
        "y_train = pd.read_csv('/content/y_train.csv').squeeze()  # Converter para Series\n",
        "y_test = pd.read_csv('/content/y_test.csv').squeeze()"
      ],
      "metadata": {
        "execution": {
          "iopub.status.busy": "2024-09-12T14:42:27.49713Z",
          "iopub.execute_input": "2024-09-12T14:42:27.497585Z",
          "iopub.status.idle": "2024-09-12T14:42:27.523252Z",
          "shell.execute_reply.started": "2024-09-12T14:42:27.497534Z",
          "shell.execute_reply": "2024-09-12T14:42:27.521996Z"
        },
        "trusted": true,
        "id": "vzMFqhvvRxdY"
      },
      "outputs": [],
      "execution_count": 2
    },
    {
      "cell_type": "code",
      "source": [
        "knn = KNeighborsClassifier(n_neighbors=7, weights='uniform', algorithm='auto', leaf_size=30, p=2, metric='minkowski', metric_params=None, n_jobs=None)  # You can choose a different value for n_neighbors\n",
        "\n",
        "# treino\n",
        "knn.fit(X_train, y_train)\n",
        "\n",
        "# teste\n",
        "y_pred = knn.predict(X_test)\n",
        "\n",
        "# metricas\n",
        "accuracy = accuracy_score(y_test, y_pred)\n",
        "\n",
        "\n",
        "# resultados\n",
        "print(f\"Accuracy: {accuracy:.2f}\")\n"
      ],
      "metadata": {
        "ExecuteTime": {
          "end_time": "2024-09-11T21:27:29.461191Z",
          "start_time": "2024-09-11T21:27:29.376163Z"
        },
        "execution": {
          "iopub.status.busy": "2024-09-12T14:42:27.52472Z",
          "iopub.execute_input": "2024-09-12T14:42:27.525116Z",
          "iopub.status.idle": "2024-09-12T14:42:27.547076Z",
          "shell.execute_reply.started": "2024-09-12T14:42:27.525076Z",
          "shell.execute_reply": "2024-09-12T14:42:27.544332Z"
        },
        "trusted": true,
        "id": "gGU9631ORxdZ",
        "colab": {
          "base_uri": "https://localhost:8080/"
        },
        "outputId": "d063a55a-1187-424d-bba5-f8e449d86f61"
      },
      "outputs": [
        {
          "output_type": "stream",
          "name": "stdout",
          "text": [
            "Accuracy: 0.90\n"
          ]
        }
      ],
      "execution_count": 3
    },
    {
      "cell_type": "code",
      "source": [
        "print(classification_report(y_test, y_pred))"
      ],
      "metadata": {
        "ExecuteTime": {
          "end_time": "2024-09-11T19:06:50.113334Z",
          "start_time": "2024-09-11T19:06:36.683266Z"
        },
        "execution": {
          "iopub.status.busy": "2024-09-12T14:42:27.549166Z",
          "iopub.execute_input": "2024-09-12T14:42:27.549584Z",
          "iopub.status.idle": "2024-09-12T14:42:27.568628Z",
          "shell.execute_reply.started": "2024-09-12T14:42:27.54954Z",
          "shell.execute_reply": "2024-09-12T14:42:27.567231Z"
        },
        "trusted": true,
        "id": "tpZaZ7gBRxdZ",
        "colab": {
          "base_uri": "https://localhost:8080/"
        },
        "outputId": "ef2aca3d-ddad-48f7-e6ec-617a3e22f13d"
      },
      "outputs": [
        {
          "output_type": "stream",
          "name": "stdout",
          "text": [
            "              precision    recall  f1-score   support\n",
            "\n",
            "         0.0       0.94      0.88      0.91        33\n",
            "         1.0       0.87      0.93      0.90        28\n",
            "\n",
            "    accuracy                           0.90        61\n",
            "   macro avg       0.90      0.90      0.90        61\n",
            "weighted avg       0.90      0.90      0.90        61\n",
            "\n"
          ]
        }
      ],
      "execution_count": 4
    }
  ]
}